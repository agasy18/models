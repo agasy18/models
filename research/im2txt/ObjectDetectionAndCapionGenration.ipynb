{
 "cells": [
  {
   "cell_type": "code",
   "execution_count": null,
   "metadata": {
    "collapsed": true
   },
   "outputs": [],
   "source": [
    "%matplotlib inline"
   ]
  },
  {
   "cell_type": "code",
   "execution_count": null,
   "metadata": {
    "collapsed": true
   },
   "outputs": [],
   "source": [
    "from matplotlib import pyplot as plt\n",
    "import numpy as np\n",
    "import os\n",
    "from PIL import Image\n",
    "import tensorflow as tf\n",
    "import math\n",
    "from skimage.transform import resize"
   ]
  },
  {
   "cell_type": "code",
   "execution_count": null,
   "metadata": {
    "scrolled": true
   },
   "outputs": [],
   "source": [
    "!bazel build -c opt //im2txt/..."
   ]
  },
  {
   "cell_type": "code",
   "execution_count": null,
   "metadata": {},
   "outputs": [],
   "source": [
    "import sys\n",
    "import collections"
   ]
  },
  {
   "cell_type": "code",
   "execution_count": null,
   "metadata": {
    "collapsed": true
   },
   "outputs": [],
   "source": [
    "sys.path.insert(0, 'bazel-bin/im2txt/run_inference.runfiles/im2txt/')"
   ]
  },
  {
   "cell_type": "code",
   "execution_count": null,
   "metadata": {},
   "outputs": [],
   "source": [
    "from __future__ import absolute_import\n",
    "from im2txt import configuration\n",
    "from im2txt.inference_utils import caption_generator\n",
    "from im2txt.inference_utils import vocabulary\n",
    "from im2txt import show_and_tell_model\n",
    "from im2txt.inference_utils import inference_wrapper_base"
   ]
  },
  {
   "cell_type": "code",
   "execution_count": null,
   "metadata": {
    "collapsed": true
   },
   "outputs": [],
   "source": [
    "tf.logging.set_verbosity(tf.logging.INFO)"
   ]
  },
  {
   "cell_type": "code",
   "execution_count": null,
   "metadata": {
    "collapsed": true
   },
   "outputs": [],
   "source": [
    "checkpoint_path = '/Users/aghasy/tmp/im2sem/model/3/model.ckpt-1000000'"
   ]
  },
  {
   "cell_type": "code",
   "execution_count": null,
   "metadata": {},
   "outputs": [],
   "source": [
    "class InferenceWrapper(inference_wrapper_base.InferenceWrapperBase):\n",
    "    \"\"\"Model wrapper class for performing inference with a ShowAndTellModel.\"\"\"\n",
    "\n",
    "    def __init__(self):\n",
    "        super(InferenceWrapper, self).__init__()\n",
    "        self.fetches = {}\n",
    "        self.post_feed_image = lambda: result \n",
    "    \n",
    "    def build_model(self, model_config):\n",
    "        model = show_and_tell_model.ShowAndTellModel(model_config, mode=\"inference\")\n",
    "        model.build()\n",
    "        return model\n",
    "    \n",
    "    \n",
    "    \n",
    "    def feed_image(self, sess, encoded_image):\n",
    "        self.fetches['initial_state'] = tf.get_default_graph().get_tensor_by_name('lstm/initial_state:0')\n",
    "        result = sess.run(fetches=self.fetches,\n",
    "                                 feed_dict={\"image_feed:0\": encoded_image})\n",
    "        self.post_feed_image(result)\n",
    "        return result['initial_state']\n",
    "\n",
    "    def inference_step(self, sess, input_feed, state_feed):\n",
    "        softmax_output, state_output = sess.run(\n",
    "            fetches=[\"softmax:0\", \"lstm/state:0\"],\n",
    "            feed_dict={\n",
    "                \"input_feed:0\": input_feed,\n",
    "                \"lstm/state_feed:0\": state_feed,\n",
    "            })\n",
    "        return softmax_output, state_output, None\n"
   ]
  },
  {
   "cell_type": "code",
   "execution_count": null,
   "metadata": {},
   "outputs": [],
   "source": [
    "model = InferenceWrapper()\n",
    "config = configuration.ModelConfig()\n",
    "restore_fn = model.build_graph_from_config(config, checkpoint_path)"
   ]
  },
  {
   "cell_type": "code",
   "execution_count": null,
   "metadata": {},
   "outputs": [],
   "source": [
    "def test_uninitialized(sess):\n",
    "    global_vars          = tf.global_variables()\n",
    "    is_not_initialized   = sess.run([tf.is_variable_initialized(var) for var in global_vars])\n",
    "    not_initialized_vars = [v for (v, f) in zip(global_vars, is_not_initialized) if not f]\n",
    "    if not_initialized_vars:\n",
    "        print 'Not initalized varibles are: ', [str(i.name) for i in not_initialized_vars]\n",
    "        # from tensorflow.python.tools.inspect_checkpoint import print_tensors_in_checkpoint_file\n",
    "        # print_tensors_in_checkpoint_file(checkpoint_path, all_tensors=True, tensor_name='')\n",
    "    assert not not_initialized_vars"
   ]
  },
  {
   "cell_type": "code",
   "execution_count": null,
   "metadata": {},
   "outputs": [],
   "source": [
    "with tf.Session() as sess:\n",
    "    restore_fn(sess)\n",
    "    test_uninitialized(sess)"
   ]
  },
  {
   "cell_type": "code",
   "execution_count": null,
   "metadata": {},
   "outputs": [],
   "source": [
    "sys.path.insert(0, '..')\n",
    "sys.path.insert(0, '../slim/')"
   ]
  },
  {
   "cell_type": "code",
   "execution_count": null,
   "metadata": {
    "collapsed": true
   },
   "outputs": [],
   "source": [
    "from object_detection.utils import ops as utils_ops"
   ]
  },
  {
   "cell_type": "code",
   "execution_count": null,
   "metadata": {},
   "outputs": [],
   "source": [
    "!cd ..; protoc object_detection/protos/*.proto --python_out=."
   ]
  },
  {
   "cell_type": "code",
   "execution_count": null,
   "metadata": {},
   "outputs": [],
   "source": [
    "sys.path.insert(0, '../object_detection')\n",
    "from utils import label_map_util\n",
    "from utils import visualization_utils as vis_util"
   ]
  },
  {
   "cell_type": "code",
   "execution_count": null,
   "metadata": {},
   "outputs": [],
   "source": [
    "PATH_TO_LABELS = os.path.abspath('../object_detection/data/mscoco_label_map.pbtxt')\n",
    "NUM_CLASSES = 90"
   ]
  },
  {
   "cell_type": "code",
   "execution_count": null,
   "metadata": {},
   "outputs": [],
   "source": [
    "label_map  = label_map_util.load_labelmap(PATH_TO_LABELS)\n",
    "categories = label_map_util.convert_label_map_to_categories(label_map, max_num_classes=NUM_CLASSES, use_display_name=True)\n",
    "category_index = label_map_util.create_category_index(categories)"
   ]
  },
  {
   "cell_type": "code",
   "execution_count": null,
   "metadata": {},
   "outputs": [],
   "source": [
    "TEST_IMAGES_DIR = '/Users/aghasy/Desktop/tmp/test_images/'\n",
    "TEST_IMAGE_PATHS = [os.path.join(TEST_IMAGES_DIR, x) for x in  os.listdir(TEST_IMAGES_DIR)]\n",
    "IMAGE_SIZE = (12, 8)"
   ]
  },
  {
   "cell_type": "code",
   "execution_count": null,
   "metadata": {
    "collapsed": true
   },
   "outputs": [],
   "source": [
    "image_tensor = tf.get_default_graph().get_tensor_by_name('image_feed:0')"
   ]
  },
  {
   "cell_type": "code",
   "execution_count": null,
   "metadata": {
    "collapsed": true
   },
   "outputs": [],
   "source": [
    "def get_detection_tensors():\n",
    "    ops = tf.get_default_graph().get_operations()\n",
    "    all_tensor_names = {output.name for op in ops for output in op.outputs}\n",
    "    tensor_dict = {}\n",
    "    for key in [\n",
    "            'num_detections', 'detection_boxes', 'detection_scores',\n",
    "            'detection_classes', 'detector_image', 'decode/DecodeJpeg'\n",
    "    ]:\n",
    "        tensor_name = key + ':0'\n",
    "        if tensor_name in all_tensor_names:\n",
    "            tensor_dict[key] = tf.get_default_graph().get_tensor_by_name(\n",
    "                    tensor_name)\n",
    "    return tensor_dict"
   ]
  },
  {
   "cell_type": "code",
   "execution_count": null,
   "metadata": {},
   "outputs": [],
   "source": [
    "def draw_detection_result(output_dict):\n",
    "    # all outputs are float32 numpy arrays, so convert types as appropriate\n",
    "    image_np = output_dict['decode/DecodeJpeg']\n",
    "    # Visualization of the results of a detection.\n",
    "    image_np = np.array(image_np).astype(np.uint8)[:,:,:3]\n",
    "#     image_np = resize(image_np, (640, int(640.0 / image_np.shape[0] *image_np.shape[1]), 3))\n",
    "    vis_util.visualize_boxes_and_labels_on_image_array(\n",
    "         image_np,\n",
    "         output_dict['detection_boxes'][0],\n",
    "         output_dict['detection_classes'][0].astype(np.uint8),\n",
    "         output_dict['detection_scores'][0],\n",
    "         category_index,\n",
    "         instance_masks=None,\n",
    "         use_normalized_coordinates=True,\n",
    "         line_thickness=min(image_np.shape[:-1]) / 100)\n",
    "    plt.figure(figsize=IMAGE_SIZE)\n",
    "    plt.imshow(image_np)"
   ]
  },
  {
   "cell_type": "code",
   "execution_count": null,
   "metadata": {},
   "outputs": [],
   "source": [
    "model.fetches = get_detection_tensors()\n",
    "model.post_feed_image = draw_detection_result"
   ]
  },
  {
   "cell_type": "code",
   "execution_count": null,
   "metadata": {},
   "outputs": [],
   "source": [
    "vocab_file = '/Users/aghasy/tmp/im2sem/model/word_counts.txt'\n",
    "vocab = vocabulary.Vocabulary(vocab_file)\n",
    "generator = caption_generator.CaptionGenerator(model, vocab)"
   ]
  },
  {
   "cell_type": "code",
   "execution_count": null,
   "metadata": {},
   "outputs": [],
   "source": [
    "with tf.Session() as sess:\n",
    "    restore_fn(sess)\n",
    "    for image_path in TEST_IMAGE_PATHS[1:]:\n",
    "        with open(image_path, 'r') as content_file:\n",
    "            content = content_file.read()\n",
    "        captions = generator.beam_search(sess, content)\n",
    "        title = \"Captions for image %s:\" % os.path.basename(image_path)\n",
    "        for i, caption in enumerate(captions):\n",
    "            # Ignore begin and end words.\n",
    "            sentence = [vocab.id_to_word(w) for w in caption.sentence[1:-1]]\n",
    "            sentence = \" \".join(sentence)\n",
    "            title += \"\\n  %d) %s (p=%f)\" % (i, sentence, math.exp(caption.logprob))\n",
    "        plt.title(title)\n",
    "        plt.draw()\n",
    "        plt.pause(0.001)"
   ]
  },
  {
   "cell_type": "code",
   "execution_count": null,
   "metadata": {},
   "outputs": [],
   "source": []
  },
  {
   "cell_type": "code",
   "execution_count": null,
   "metadata": {
    "collapsed": true
   },
   "outputs": [],
   "source": []
  },
  {
   "cell_type": "code",
   "execution_count": null,
   "metadata": {
    "collapsed": true
   },
   "outputs": [],
   "source": []
  }
 ],
 "metadata": {
  "kernelspec": {
   "display_name": "Python 2",
   "language": "python",
   "name": "python2"
  },
  "language_info": {
   "codemirror_mode": {
    "name": "ipython",
    "version": 2
   },
   "file_extension": ".py",
   "mimetype": "text/x-python",
   "name": "python",
   "nbconvert_exporter": "python",
   "pygments_lexer": "ipython2",
   "version": "2.7.12"
  }
 },
 "nbformat": 4,
 "nbformat_minor": 2
}
